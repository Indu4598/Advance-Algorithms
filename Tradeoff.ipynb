{
 "cells": [
  {
   "cell_type": "code",
   "execution_count": 1,
   "metadata": {},
   "outputs": [],
   "source": [
    "import numpy as np"
   ]
  },
  {
   "cell_type": "code",
   "execution_count": 2,
   "metadata": {},
   "outputs": [],
   "source": [
    "N=1000000 #size of the population"
   ]
  },
  {
   "cell_type": "code",
   "execution_count": 3,
   "metadata": {},
   "outputs": [],
   "source": [
    "k1=int(0.52*N)\n",
    "k2=int(0.48*N)"
   ]
  },
  {
   "cell_type": "code",
   "execution_count": 4,
   "metadata": {},
   "outputs": [],
   "source": [
    " arr = np.array([1] * k1 + [-1] * (k2))"
   ]
  },
  {
   "cell_type": "code",
   "execution_count": 5,
   "metadata": {},
   "outputs": [
    {
     "data": {
      "text/plain": [
       "(1000000,)"
      ]
     },
     "execution_count": 5,
     "metadata": {},
     "output_type": "execute_result"
    }
   ],
   "source": [
    "arr.shape # array is of size 1000000"
   ]
  },
  {
   "cell_type": "code",
   "execution_count": 6,
   "metadata": {},
   "outputs": [
    {
     "data": {
      "text/plain": [
       "480000"
      ]
     },
     "execution_count": 6,
     "metadata": {},
     "output_type": "execute_result"
    }
   ],
   "source": [
    " np.count_nonzero(arr == -1)"
   ]
  },
  {
   "cell_type": "code",
   "execution_count": 7,
   "metadata": {},
   "outputs": [
    {
     "data": {
      "text/plain": [
       "520000"
      ]
     },
     "execution_count": 7,
     "metadata": {},
     "output_type": "execute_result"
    }
   ],
   "source": [
    " np.count_nonzero(arr == 1)"
   ]
  },
  {
   "cell_type": "code",
   "execution_count": 8,
   "metadata": {},
   "outputs": [
    {
     "name": "stdout",
     "output_type": "stream",
     "text": [
      "-1\n"
     ]
    }
   ],
   "source": [
    "# finding the elemet with minimum count.\n",
    "(values,counts) = np.unique(arr,return_counts=True)\n",
    "ind=np.argmin(counts)\n",
    "print(values[ind]) "
   ]
  },
  {
   "cell_type": "code",
   "execution_count": 9,
   "metadata": {},
   "outputs": [
    {
     "name": "stdout",
     "output_type": "stream",
     "text": [
      "1\n"
     ]
    }
   ],
   "source": [
    "# finding the elemet with maximum count.\n",
    "(values,counts) = np.unique(arr,return_counts=True)\n",
    "ind=np.argmax(counts)\n",
    "print(values[ind]) "
   ]
  },
  {
   "cell_type": "code",
   "execution_count": null,
   "metadata": {},
   "outputs": [],
   "source": []
  },
  {
   "cell_type": "code",
   "execution_count": 10,
   "metadata": {},
   "outputs": [
    {
     "name": "stdout",
     "output_type": "stream",
     "text": [
      "0.58\n"
     ]
    }
   ],
   "source": [
    "count_20=0\n",
    "for i in range(0,100):\n",
    "    sample_20=np.random.choice(arr,20,replace=True)\n",
    "    x1=np.count_nonzero(sample_20 == 1)\n",
    "    x2=np.count_nonzero(sample_20 == -1)\n",
    "    if x1>x2:\n",
    "        count_20=count_20+1\n",
    "print(count_20/100)\n",
    "    "
   ]
  },
  {
   "cell_type": "code",
   "execution_count": 13,
   "metadata": {},
   "outputs": [
    {
     "name": "stdout",
     "output_type": "stream",
     "text": [
      "0.65\n"
     ]
    }
   ],
   "source": [
    "count_100=0\n",
    "for i in range(0,100):\n",
    "    sample_100=np.random.choice(arr,100,replace=True)\n",
    "    x1=np.count_nonzero(sample_100 == 1)\n",
    "    x2=np.count_nonzero(sample_100 == - 1)\n",
    "    if x1>x2:\n",
    "        count_100=count_100+1\n",
    "print(count_100/100)"
   ]
  },
  {
   "cell_type": "code",
   "execution_count": 12,
   "metadata": {},
   "outputs": [
    {
     "name": "stdout",
     "output_type": "stream",
     "text": [
      "0.75\n"
     ]
    }
   ],
   "source": [
    "count_400=0\n",
    "for i in range(0,100):\n",
    "    sample_400=np.random.choice(arr,400,replace=True)\n",
    "    x1=np.count_nonzero(sample_400 == 1)\n",
    "    x2=np.count_nonzero(sample_400 == - 1)\n",
    "    if x1>x2:\n",
    "        count_400=count_400+1\n",
    "print(count_400/100)"
   ]
  },
  {
   "cell_type": "code",
   "execution_count": 13,
   "metadata": {},
   "outputs": [
    {
     "name": "stdout",
     "output_type": "stream",
     "text": [
      "0.82\n"
     ]
    }
   ],
   "source": [
    "count_500=0\n",
    "for i in range(0,100):\n",
    "    sample_500=np.random.choice(arr,500)\n",
    "    x1=np.count_nonzero(sample_500 == 1)\n",
    "    x2=np.count_nonzero(sample_500 == - 1)\n",
    "    if x1>x2:\n",
    "        count_500=count_500+1\n",
    "print(count_500/100)"
   ]
  },
  {
   "cell_type": "code",
   "execution_count": 14,
   "metadata": {},
   "outputs": [
    {
     "name": "stdout",
     "output_type": "stream",
     "text": [
      "0.83\n"
     ]
    }
   ],
   "source": [
    "count_600=0\n",
    "for i in range(0,100):\n",
    "    sample_600=np.random.choice(arr,600)\n",
    "    x1=np.count_nonzero(sample_600 == 1)\n",
    "    x2=np.count_nonzero(sample_600 == - 1)\n",
    "    if x1>x2:\n",
    "        count_600=count_600+1\n",
    "print(count_600/100)"
   ]
  },
  {
   "cell_type": "code",
   "execution_count": 17,
   "metadata": {},
   "outputs": [
    {
     "name": "stdout",
     "output_type": "stream",
     "text": [
      "0.92\n"
     ]
    }
   ],
   "source": [
    "count=0\n",
    "for i in range(0,100):\n",
    "    sample=np.random.choice(arr,1000)\n",
    "    x1=np.count_nonzero(sample == 1)\n",
    "    x2=np.count_nonzero(sample== - 1)\n",
    "    if x1>x2:\n",
    "        count=count+1\n",
    "print(count/100)"
   ]
  },
  {
   "cell_type": "code",
   "execution_count": 18,
   "metadata": {},
   "outputs": [
    {
     "name": "stdout",
     "output_type": "stream",
     "text": [
      "0.86\n"
     ]
    }
   ],
   "source": [
    "count=0\n",
    "for i in range(0,100):\n",
    "    sample=np.random.choice(arr,900)\n",
    "    x1=np.count_nonzero(sample == 1)\n",
    "    x2=np.count_nonzero(sample== - 1)\n",
    "    if x1>x2:\n",
    "        count=count+1\n",
    "print(count/100)"
   ]
  },
  {
   "cell_type": "code",
   "execution_count": 19,
   "metadata": {},
   "outputs": [
    {
     "name": "stdout",
     "output_type": "stream",
     "text": [
      "0.88\n"
     ]
    }
   ],
   "source": [
    "count=0\n",
    "for i in range(0,100):\n",
    "    sample=np.random.choice(arr,950)\n",
    "    x1=np.count_nonzero(sample == 1)\n",
    "    x2=np.count_nonzero(sample== - 1)\n",
    "    if x1>x2:\n",
    "        count=count+1\n",
    "print(count/100)"
   ]
  },
  {
   "cell_type": "code",
   "execution_count": 23,
   "metadata": {},
   "outputs": [
    {
     "name": "stdout",
     "output_type": "stream",
     "text": [
      "0.89\n"
     ]
    }
   ],
   "source": [
    "count=0\n",
    "for i in range(0,100):\n",
    "    sample=np.random.choice(arr,990)\n",
    "    x1=np.count_nonzero(sample == 1)\n",
    "    x2=np.count_nonzero(sample== - 1)\n",
    "    if x1>x2:\n",
    "        count=count+1\n",
    "print(count/100)"
   ]
  },
  {
   "cell_type": "code",
   "execution_count": 29,
   "metadata": {},
   "outputs": [
    {
     "name": "stdout",
     "output_type": "stream",
     "text": [
      "0.91\n"
     ]
    }
   ],
   "source": [
    "count=0\n",
    "for i in range(0,100):\n",
    "    sample=np.random.choice(arr,999)\n",
    "    x1=np.count_nonzero(sample == 1)\n",
    "    x2=np.count_nonzero(sample== - 1)\n",
    "    if x1>x2:\n",
    "        count=count+1\n",
    "print(count/100)"
   ]
  },
  {
   "cell_type": "code",
   "execution_count": null,
   "metadata": {},
   "outputs": [],
   "source": []
  },
  {
   "cell_type": "code",
   "execution_count": null,
   "metadata": {},
   "outputs": [],
   "source": []
  }
 ],
 "metadata": {
  "kernelspec": {
   "display_name": "Python 3",
   "language": "python",
   "name": "python3"
  },
  "language_info": {
   "codemirror_mode": {
    "name": "ipython",
    "version": 3
   },
   "file_extension": ".py",
   "mimetype": "text/x-python",
   "name": "python",
   "nbconvert_exporter": "python",
   "pygments_lexer": "ipython3",
   "version": "3.7.0"
  }
 },
 "nbformat": 4,
 "nbformat_minor": 2
}
