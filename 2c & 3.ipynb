{
 "cells": [
  {
   "cell_type": "code",
   "execution_count": 1,
   "metadata": {},
   "outputs": [],
   "source": [
    "import numpy as np"
   ]
  },
  {
   "cell_type": "code",
   "execution_count": 2,
   "metadata": {},
   "outputs": [],
   "source": [
    "N=1000000 #size of the population"
   ]
  },
  {
   "cell_type": "code",
   "execution_count": 3,
   "metadata": {},
   "outputs": [],
   "source": [
    "k1=int(0.52*N)\n",
    "k2=int(0.48*N)"
   ]
  },
  {
   "cell_type": "code",
   "execution_count": 4,
   "metadata": {},
   "outputs": [],
   "source": [
    " arr = np.array([1] * k1 + [-1] * (k2))"
   ]
  },
  {
   "cell_type": "code",
   "execution_count": 5,
   "metadata": {},
   "outputs": [
    {
     "data": {
      "text/plain": [
       "(1000000,)"
      ]
     },
     "execution_count": 5,
     "metadata": {},
     "output_type": "execute_result"
    }
   ],
   "source": [
    "arr.shape # array is of size 1000000"
   ]
  },
  {
   "cell_type": "code",
   "execution_count": 6,
   "metadata": {},
   "outputs": [
    {
     "data": {
      "text/plain": [
       "480000"
      ]
     },
     "execution_count": 6,
     "metadata": {},
     "output_type": "execute_result"
    }
   ],
   "source": [
    " np.count_nonzero(arr == -1)"
   ]
  },
  {
   "cell_type": "code",
   "execution_count": 7,
   "metadata": {},
   "outputs": [
    {
     "data": {
      "text/plain": [
       "520000"
      ]
     },
     "execution_count": 7,
     "metadata": {},
     "output_type": "execute_result"
    }
   ],
   "source": [
    " np.count_nonzero(arr == 1)"
   ]
  },
  {
   "cell_type": "code",
   "execution_count": 8,
   "metadata": {},
   "outputs": [
    {
     "name": "stdout",
     "output_type": "stream",
     "text": [
      "-1\n"
     ]
    }
   ],
   "source": [
    "# finding the elemet with minimum count.\n",
    "(values,counts) = np.unique(arr,return_counts=True)\n",
    "ind=np.argmin(counts)\n",
    "print(values[ind]) "
   ]
  },
  {
   "cell_type": "code",
   "execution_count": 9,
   "metadata": {},
   "outputs": [
    {
     "name": "stdout",
     "output_type": "stream",
     "text": [
      "1\n"
     ]
    }
   ],
   "source": [
    "# finding the element with maximum count.\n",
    "(values,counts) = np.unique(arr,return_counts=True)\n",
    "ind=np.argmax(counts)\n",
    "print(values[ind]) "
   ]
  },
  {
   "cell_type": "code",
   "execution_count": 17,
   "metadata": {},
   "outputs": [
    {
     "name": "stdout",
     "output_type": "stream",
     "text": [
      "0.53\n"
     ]
    }
   ],
   "source": [
    "count_20=0\n",
    "list1=[]\n",
    "for i in range(0,100):\n",
    "    sample_20=np.random.choice(arr,20,replace=True)\n",
    "    #print(sample_20)\n",
    "    x1=np.count_nonzero(sample_20 == 1)\n",
    "    x2=np.count_nonzero(sample_20 == -1)\n",
    "    if x1>x2:\n",
    "         count_20=count_20+1\n",
    "print(count_20/100)\n",
    "    "
   ]
  },
  {
   "cell_type": "code",
   "execution_count": 18,
   "metadata": {},
   "outputs": [
    {
     "name": "stdout",
     "output_type": "stream",
     "text": [
      "0.63\n"
     ]
    }
   ],
   "source": [
    "count_100=0\n",
    "for i in range(0,100):\n",
    "    sample_100=np.random.choice(arr,100,replace=True)\n",
    "    x1=np.count_nonzero(sample_100 == 1)\n",
    "    x2=np.count_nonzero(sample_100 == - 1)\n",
    "    if x1>x2:\n",
    "        count_100=count_100+1\n",
    "print(count_100/100)"
   ]
  },
  {
   "cell_type": "code",
   "execution_count": 19,
   "metadata": {},
   "outputs": [
    {
     "name": "stdout",
     "output_type": "stream",
     "text": [
      "0.74\n"
     ]
    }
   ],
   "source": [
    "count_400=0\n",
    "for i in range(0,100):\n",
    "    sample_400=np.random.choice(arr,400,replace=True)\n",
    "    x1=np.count_nonzero(sample_400 == 1)\n",
    "    x2=np.count_nonzero(sample_400 == - 1)\n",
    "    if x1>x2:\n",
    "        count_400=count_400+1\n",
    "print(count_400/100)"
   ]
  },
  {
   "cell_type": "code",
   "execution_count": 20,
   "metadata": {},
   "outputs": [
    {
     "name": "stdout",
     "output_type": "stream",
     "text": [
      "0.83\n"
     ]
    }
   ],
   "source": [
    "count_500=0\n",
    "for i in range(0,100):\n",
    "    sample_500=np.random.choice(arr,500)\n",
    "    x1=np.count_nonzero(sample_500 == 1)\n",
    "    x2=np.count_nonzero(sample_500 == - 1)\n",
    "    if x1>x2:\n",
    "        count_500=count_500+1\n",
    "print(count_500/100)"
   ]
  },
  {
   "cell_type": "code",
   "execution_count": 21,
   "metadata": {},
   "outputs": [
    {
     "name": "stdout",
     "output_type": "stream",
     "text": [
      "0.8\n"
     ]
    }
   ],
   "source": [
    "count_600=0\n",
    "for i in range(0,100):\n",
    "    sample_600=np.random.choice(arr,600)\n",
    "    x1=np.count_nonzero(sample_600 == 1)\n",
    "    x2=np.count_nonzero(sample_600 == - 1)\n",
    "    if x1>x2:\n",
    "        count_600=count_600+1\n",
    "print(count_600/100)"
   ]
  },
  {
   "cell_type": "code",
   "execution_count": 33,
   "metadata": {},
   "outputs": [
    {
     "name": "stdout",
     "output_type": "stream",
     "text": [
      "0.96\n"
     ]
    }
   ],
   "source": [
    "count=0\n",
    "for i in range(0,100):\n",
    "    sample=np.random.choice(arr,1000)\n",
    "    x1=np.count_nonzero(sample == 1)\n",
    "    x2=np.count_nonzero(sample== - 1)\n",
    "    if x1>x2:\n",
    "        count=count+1\n",
    "print(count/100)"
   ]
  },
  {
   "cell_type": "code",
   "execution_count": 30,
   "metadata": {},
   "outputs": [
    {
     "name": "stdout",
     "output_type": "stream",
     "text": [
      "0.89\n"
     ]
    }
   ],
   "source": [
    "count=0\n",
    "for i in range(0,100):\n",
    "    sample=np.random.choice(arr,900)\n",
    "    x1=np.count_nonzero(sample == 1)\n",
    "    x2=np.count_nonzero(sample== - 1)\n",
    "    if x1>x2:\n",
    "        count=count+1\n",
    "print(count/100)"
   ]
  },
  {
   "cell_type": "code",
   "execution_count": 31,
   "metadata": {},
   "outputs": [
    {
     "name": "stdout",
     "output_type": "stream",
     "text": [
      "0.92\n"
     ]
    }
   ],
   "source": [
    "count=0\n",
    "for i in range(0,100):\n",
    "    sample=np.random.choice(arr,950)\n",
    "    x1=np.count_nonzero(sample == 1)\n",
    "    x2=np.count_nonzero(sample == -1)\n",
    "    if x1>x2:\n",
    "        count=count+1\n",
    "print(count/100)"
   ]
  },
  {
   "cell_type": "code",
   "execution_count": 31,
   "metadata": {},
   "outputs": [
    {
     "name": "stdout",
     "output_type": "stream",
     "text": [
      "153.7\n"
     ]
    }
   ],
   "source": [
    "# Question 2c\n",
    "# fot t=4*10^4\n",
    "outer=[]\n",
    "for i in range(0,50):\n",
    "    x=0\n",
    "    count=0\n",
    "    for j in range(0,40000):\n",
    "        y=np.random.choice([1,-1],1)\n",
    "        x=x+y\n",
    "        if x==0:\n",
    "            count=count+1\n",
    "    outer.append(count)\n",
    "print(sum(outer)/50)"
   ]
  },
  {
   "cell_type": "code",
   "execution_count": 32,
   "metadata": {},
   "outputs": [
    {
     "name": "stdout",
     "output_type": "stream",
     "text": [
      "216.58\n"
     ]
    }
   ],
   "source": [
    "# Question 2c\n",
    "# fot t=9*10^4\n",
    "outer=[]\n",
    "for i in range(0,50):\n",
    "    x=0\n",
    "    count=0\n",
    "    for j in range(0,90000):\n",
    "        y=np.random.choice([1,-1],1)\n",
    "        x=x+y\n",
    "        if x==0:\n",
    "            count=count+1\n",
    "    outer.append(count)\n",
    "print(sum(outer)/50)"
   ]
  },
  {
   "cell_type": "code",
   "execution_count": 34,
   "metadata": {},
   "outputs": [
    {
     "name": "stdout",
     "output_type": "stream",
     "text": [
      "274.12\n",
      "[408, 317, 278, 418, 86, 46, 189, 198, 78, 160, 699, 249, 507, 152, 6, 289, 257, 525, 462, 29, 42, 438, 7, 3, 76, 395, 124, 177, 488, 242, 153, 300, 169, 39, 168, 679, 497, 115, 399, 227, 1218, 348, 303, 208, 504, 74, 326, 254, 241, 139]\n"
     ]
    }
   ],
   "source": [
    "# Question 2c\n",
    "# fot t=16*10^4\n",
    "outer=[]\n",
    "for i in range(0,50):\n",
    "    x=0\n",
    "    count=0\n",
    "    for j in range(0,160000):\n",
    "        y=np.random.choice([1,-1],1)\n",
    "        x=x+y\n",
    "        if x==0:\n",
    "            count=count+1\n",
    "    outer.append(count)\n",
    "print(sum(outer)/50)\n",
    "print(outer)"
   ]
  },
  {
   "cell_type": "code",
   "execution_count": null,
   "metadata": {},
   "outputs": [],
   "source": []
  },
  {
   "cell_type": "code",
   "execution_count": null,
   "metadata": {},
   "outputs": [],
   "source": []
  }
 ],
 "metadata": {
  "kernelspec": {
   "display_name": "Python 3",
   "language": "python",
   "name": "python3"
  },
  "language_info": {
   "codemirror_mode": {
    "name": "ipython",
    "version": 3
   },
   "file_extension": ".py",
   "mimetype": "text/x-python",
   "name": "python",
   "nbconvert_exporter": "python",
   "pygments_lexer": "ipython3",
   "version": "3.7.0"
  }
 },
 "nbformat": 4,
 "nbformat_minor": 2
}
